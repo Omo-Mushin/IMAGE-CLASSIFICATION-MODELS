{
 "cells": [
  {
   "cell_type": "code",
   "execution_count": 1,
   "id": "167a93d9",
   "metadata": {},
   "outputs": [
    {
     "name": "stdout",
     "output_type": "stream",
     "text": [
      "WARNING:tensorflow:From C:\\Users\\OMO_MUSHIN\\anaconda3\\Lib\\site-packages\\keras\\src\\losses.py:2976: The name tf.losses.sparse_softmax_cross_entropy is deprecated. Please use tf.compat.v1.losses.sparse_softmax_cross_entropy instead.\n",
      "\n"
     ]
    }
   ],
   "source": [
    "import tensorflow as tf\n",
    "from tensorflow import keras\n",
    "import matplotlib.pyplot as plt\n",
    "%matplotlib inline\n",
    "import numpy as np"
   ]
  },
  {
   "cell_type": "code",
   "execution_count": 2,
   "id": "af3dfcf1",
   "metadata": {},
   "outputs": [],
   "source": [
    "(X_train, y_train), (X_test, y_test) = tf.keras.datasets.cifar10.load_data()"
   ]
  },
  {
   "cell_type": "code",
   "execution_count": 3,
   "id": "082dc914",
   "metadata": {},
   "outputs": [
    {
     "data": {
      "text/plain": [
       "(50000, 32, 32, 3)"
      ]
     },
     "execution_count": 3,
     "metadata": {},
     "output_type": "execute_result"
    }
   ],
   "source": [
    "X_train.shape"
   ]
  },
  {
   "cell_type": "code",
   "execution_count": 4,
   "id": "936afc40",
   "metadata": {},
   "outputs": [
    {
     "data": {
      "text/plain": [
       "<matplotlib.image.AxesImage at 0x2b2de1949d0>"
      ]
     },
     "execution_count": 4,
     "metadata": {},
     "output_type": "execute_result"
    },
    {
     "data": {
      "image/png": "[encoded data removed]",
      "text/plain": [
       "<Figure size 640x480 with 1 Axes>"
      ]
     },
     "metadata": {},
     "output_type": "display_data"
    }
   ],
   "source": [
    "plt.imshow(X_train[9999])"
   ]
  },
  {
   "cell_type": "code",
   "execution_count": 5,
   "id": "ef81428b",
   "metadata": {},
   "outputs": [],
   "source": [
    "cifar_labels = ['airplane', 'automobile', 'bird', 'cat', 'deer', 'dog', 'frog', 'horse', 'ship', 'truck']"
   ]
  },
  {
   "cell_type": "code",
   "execution_count": 6,
   "id": "8a315935",
   "metadata": {},
   "outputs": [
    {
     "data": {
      "text/plain": [
       "array([4], dtype=uint8)"
      ]
     },
     "execution_count": 6,
     "metadata": {},
     "output_type": "execute_result"
    }
   ],
   "source": [
    "y_train[3]"
   ]
  },
  {
   "cell_type": "code",
   "execution_count": 7,
   "id": "975837ca",
   "metadata": {},
   "outputs": [],
   "source": [
    "X_train = X_train / 255.0\n",
    "X_test = X_test / 255.0"
   ]
  },
  {
   "cell_type": "code",
   "execution_count": 8,
   "id": "267a09c4",
   "metadata": {},
   "outputs": [],
   "source": [
    "y_train_categorical = keras.utils.to_categorical(\n",
    "    y_train, num_classes=len(cifar_labels), dtype='float32'\n",
    "        )"
   ]
  },
  {
   "cell_type": "code",
   "execution_count": 9,
   "id": "137c9243",
   "metadata": {},
   "outputs": [],
   "source": [
    "y_test_categorical = keras.utils.to_categorical(\n",
    "    y_test, num_classes=len(cifar_labels), dtype='float32'\n",
    "        )"
   ]
  },
  {
   "cell_type": "code",
   "execution_count": 10,
   "id": "6a10e483",
   "metadata": {},
   "outputs": [
    {
     "data": {
      "text/plain": [
       "array([[0., 0., 0., ..., 0., 0., 0.],\n",
       "       [0., 0., 0., ..., 0., 1., 0.],\n",
       "       [0., 0., 0., ..., 0., 1., 0.],\n",
       "       ...,\n",
       "       [0., 0., 0., ..., 0., 0., 0.],\n",
       "       [0., 1., 0., ..., 0., 0., 0.],\n",
       "       [0., 0., 0., ..., 1., 0., 0.]], dtype=float32)"
      ]
     },
     "execution_count": 10,
     "metadata": {},
     "output_type": "execute_result"
    }
   ],
   "source": [
    "y_test_categorical"
   ]
  },
  {
   "cell_type": "code",
   "execution_count": 11,
   "id": "92128102",
   "metadata": {},
   "outputs": [
    {
     "name": "stdout",
     "output_type": "stream",
     "text": [
      "WARNING:tensorflow:From C:\\Users\\OMO_MUSHIN\\anaconda3\\Lib\\site-packages\\keras\\src\\backend.py:873: The name tf.get_default_graph is deprecated. Please use tf.compat.v1.get_default_graph instead.\n",
      "\n"
     ]
    }
   ],
   "source": [
    "model = keras.Sequential([\n",
    "    keras.layers.Flatten(input_shape=(32, 32, 3)),\n",
    "    keras.layers.Dense(1500, activation='relu'),\n",
    "    keras.layers.Dense(500, activation='relu'),\n",
    "    keras.layers.Dense(10, activation='sigmoid')\n",
    "])"
   ]
  },
  {
   "cell_type": "code",
   "execution_count": null,
   "id": "cdc0eba2",
   "metadata": {},
   "outputs": [
    {
     "name": "stdout",
     "output_type": "stream",
     "text": [
      "WARNING:tensorflow:From C:\\Users\\OMO_MUSHIN\\anaconda3\\Lib\\site-packages\\keras\\src\\optimizers\\__init__.py:309: The name tf.train.Optimizer is deprecated. Please use tf.compat.v1.train.Optimizer instead.\n",
      "\n",
      "Epoch 1/50\n",
      "WARNING:tensorflow:From C:\\Users\\OMO_MUSHIN\\anaconda3\\Lib\\site-packages\\keras\\src\\utils\\tf_utils.py:492: The name tf.ragged.RaggedTensorValue is deprecated. Please use tf.compat.v1.ragged.RaggedTensorValue instead.\n",
      "\n",
      "WARNING:tensorflow:From C:\\Users\\OMO_MUSHIN\\anaconda3\\Lib\\site-packages\\keras\\src\\engine\\base_layer_utils.py:384: The name tf.executing_eagerly_outside_functions is deprecated. Please use tf.compat.v1.executing_eagerly_outside_functions instead.\n",
      "\n",
      "1563/1563 [==============================] - 128s 80ms/step - loss: 1.8739 - accuracy: 0.3274\n",
      "Epoch 2/50\n",
      "1563/1563 [==============================] - 125s 80ms/step - loss: 1.6625 - accuracy: 0.4009\n",
      "Epoch 3/50\n",
      "1563/1563 [==============================] - 132s 84ms/step - loss: 1.5783 - accuracy: 0.4340\n",
      "Epoch 4/50\n",
      "1563/1563 [==============================] - 121s 78ms/step - loss: 1.5358 - accuracy: 0.4493\n",
      "Epoch 5/50\n",
      "1563/1563 [==============================] - 125s 80ms/step - loss: 1.4985 - accuracy: 0.4660\n",
      "Epoch 6/50\n",
      "1563/1563 [==============================] - 128s 82ms/step - loss: 1.4619 - accuracy: 0.4766\n",
      "Epoch 7/50\n",
      "1563/1563 [==============================] - 124s 79ms/step - loss: 1.4365 - accuracy: 0.4888\n",
      "Epoch 8/50\n",
      "1563/1563 [==============================] - 118s 75ms/step - loss: 1.4113 - accuracy: 0.4959\n",
      "Epoch 9/50\n",
      "1563/1563 [==============================] - 118s 76ms/step - loss: 1.3895 - accuracy: 0.5037\n",
      "Epoch 10/50\n",
      "1563/1563 [==============================] - 118s 76ms/step - loss: 1.3682 - accuracy: 0.5100\n",
      "Epoch 11/50\n",
      "1563/1563 [==============================] - 118s 75ms/step - loss: 1.3484 - accuracy: 0.5199\n",
      "Epoch 12/50\n",
      "1563/1563 [==============================] - 121s 77ms/step - loss: 1.3299 - accuracy: 0.5245\n",
      "Epoch 13/50\n",
      "1563/1563 [==============================] - 120s 77ms/step - loss: 1.3124 - accuracy: 0.5290\n",
      "Epoch 14/50\n",
      "1563/1563 [==============================] - 121s 77ms/step - loss: 1.2997 - accuracy: 0.5348\n",
      "Epoch 15/50\n",
      "1563/1563 [==============================] - 122s 78ms/step - loss: 1.2780 - accuracy: 0.5439\n",
      "Epoch 16/50\n",
      "1563/1563 [==============================] - 117s 75ms/step - loss: 1.2675 - accuracy: 0.5435\n",
      "Epoch 17/50\n",
      "1563/1563 [==============================] - 113s 72ms/step - loss: 1.2532 - accuracy: 0.5504\n",
      "Epoch 18/50\n",
      "1563/1563 [==============================] - 113s 72ms/step - loss: 1.2413 - accuracy: 0.5533\n",
      "Epoch 19/50\n",
      "1563/1563 [==============================] - 113s 72ms/step - loss: 1.2287 - accuracy: 0.5571\n",
      "Epoch 20/50\n",
      "1563/1563 [==============================] - 115s 73ms/step - loss: 1.2140 - accuracy: 0.5661\n",
      "Epoch 21/50\n",
      "1563/1563 [==============================] - 118s 76ms/step - loss: 1.2031 - accuracy: 0.5693\n",
      "Epoch 22/50\n",
      "1563/1563 [==============================] - 122s 78ms/step - loss: 1.1914 - accuracy: 0.5730\n",
      "Epoch 23/50\n",
      "1563/1563 [==============================] - 123s 79ms/step - loss: 1.1841 - accuracy: 0.5765\n",
      "Epoch 24/50\n",
      "1563/1563 [==============================] - 124s 79ms/step - loss: 1.1725 - accuracy: 0.5786\n",
      "Epoch 25/50\n",
      "1563/1563 [==============================] - 127s 81ms/step - loss: 1.1654 - accuracy: 0.5806\n",
      "Epoch 26/50\n",
      "1563/1563 [==============================] - 123s 78ms/step - loss: 1.1530 - accuracy: 0.5876\n",
      "Epoch 27/50\n",
      "1563/1563 [==============================] - 122s 78ms/step - loss: 1.1447 - accuracy: 0.5868\n",
      "Epoch 28/50\n",
      "1563/1563 [==============================] - 118s 75ms/step - loss: 1.1381 - accuracy: 0.5897\n",
      "Epoch 29/50\n",
      "1563/1563 [==============================] - 119s 76ms/step - loss: 1.1281 - accuracy: 0.5957\n",
      "Epoch 30/50\n",
      "1563/1563 [==============================] - 119s 76ms/step - loss: 1.1181 - accuracy: 0.6004\n",
      "Epoch 31/50\n",
      "1563/1563 [==============================] - 117s 75ms/step - loss: 1.1174 - accuracy: 0.5986\n",
      "Epoch 32/50\n",
      "1563/1563 [==============================] - 121s 78ms/step - loss: 1.1035 - accuracy: 0.6016\n",
      "Epoch 33/50\n",
      "1563/1563 [==============================] - 121s 77ms/step - loss: 1.0987 - accuracy: 0.6051\n",
      "Epoch 34/50\n",
      "1563/1563 [==============================] - 126s 81ms/step - loss: 1.0900 - accuracy: 0.6061\n",
      "Epoch 35/50\n",
      "1563/1563 [==============================] - 122s 78ms/step - loss: 1.0761 - accuracy: 0.6104\n",
      "Epoch 36/50\n",
      "1563/1563 [==============================] - 119s 76ms/step - loss: 1.0766 - accuracy: 0.6124\n",
      "Epoch 37/50\n",
      "1563/1563 [==============================] - 126s 81ms/step - loss: 1.0682 - accuracy: 0.6168\n",
      "Epoch 38/50\n",
      "1563/1563 [==============================] - 122s 78ms/step - loss: 1.0667 - accuracy: 0.6162\n",
      "Epoch 39/50\n",
      "1563/1563 [==============================] - 118s 75ms/step - loss: 1.0579 - accuracy: 0.6196\n",
      "Epoch 40/50\n",
      "1563/1563 [==============================] - 120s 77ms/step - loss: 1.0494 - accuracy: 0.6220\n",
      "Epoch 41/50\n",
      "1563/1563 [==============================] - 119s 76ms/step - loss: 1.0424 - accuracy: 0.6281\n",
      "Epoch 42/50\n",
      "1563/1563 [==============================] - 122s 78ms/step - loss: 1.0360 - accuracy: 0.6274\n",
      "Epoch 43/50\n",
      "1563/1563 [==============================] - 143s 92ms/step - loss: 1.0330 - accuracy: 0.6293\n",
      "Epoch 44/50\n",
      "1563/1563 [==============================] - 141s 90ms/step - loss: 1.0249 - accuracy: 0.6306\n",
      "Epoch 45/50\n",
      "1563/1563 [==============================] - 129s 83ms/step - loss: 1.0169 - accuracy: 0.6340\n",
      "Epoch 46/50\n",
      "1563/1563 [==============================] - 123s 79ms/step - loss: 1.0114 - accuracy: 0.6360\n",
      "Epoch 47/50\n",
      "1563/1563 [==============================] - 128s 82ms/step - loss: 1.0110 - accuracy: 0.6340\n",
      "Epoch 48/50\n",
      "1563/1563 [==============================] - 125s 80ms/step - loss: 1.0050 - accuracy: 0.6396\n",
      "Epoch 49/50\n",
      "1563/1563 [==============================] - 125s 80ms/step - loss: 1.0002 - accuracy: 0.6408\n",
      "Epoch 50/50\n",
      " 903/1563 [================>.............] - ETA: 53s - loss: 0.9889 - accuracy: 0.6412"
     ]
    }
   ],
   "source": [
    "model.compile(optimizer='adam', loss='sparse_categorical_crossentropy',  metrics=['accuracy'])\n",
    "\n",
    "model.fit(X_train, y_train, epochs=50)"
   ]
  },
  {
   "cell_type": "code",
   "execution_count": null,
   "id": "114acdfe",
   "metadata": {},
   "outputs": [],
   "source": [
    "model.evaluate(X_test, y_test)"
   ]
  },
  {
   "cell_type": "code",
   "execution_count": null,
   "id": "296cbaa9",
   "metadata": {},
   "outputs": [],
   "source": [
    "y_test[6]"
   ]
  },
  {
   "cell_type": "code",
   "execution_count": null,
   "id": "b277a8a2",
   "metadata": {},
   "outputs": [],
   "source": [
    "model.predict(X_test)"
   ]
  },
  {
   "cell_type": "code",
   "execution_count": null,
   "id": "3497eb3f",
   "metadata": {},
   "outputs": [],
   "source": [
    "test_loss, test_acc = model.evaluate(X_test, y_test)\n",
    "print(\"\\nTest accuracy:\", test_acc)"
   ]
  },
  {
   "cell_type": "code",
   "execution_count": null,
   "id": "ea390eb7",
   "metadata": {},
   "outputs": [],
   "source": [
    "predictions = model.predict(X_test)"
   ]
  },
  {
   "cell_type": "code",
   "execution_count": null,
   "id": "a968dd2d",
   "metadata": {},
   "outputs": [],
   "source": [
    "plt.imshow(X_test[6])\n",
    "plt.show()"
   ]
  },
  {
   "cell_type": "code",
   "execution_count": null,
   "id": "bb31102a",
   "metadata": {},
   "outputs": [],
   "source": [
    "predicted_label = cifar_labels[np.argmax(predictions[6])]\n",
    "print(\"Predicted label for test image 6:\", predicted_label)\n",
    "\n",
    "# Display the true label for the image at index 6\n",
    "true_label = cifar_labels[y_test[6][0]]\n",
    "print(\"True label for test image 6:\", true_label)"
   ]
  },
  {
   "cell_type": "code",
   "execution_count": null,
   "id": "64ef7d80",
   "metadata": {},
   "outputs": [],
   "source": []
  },
  {
   "cell_type": "code",
   "execution_count": null,
   "id": "797ec2b9",
   "metadata": {},
   "outputs": [],
   "source": []
  },
  {
   "cell_type": "code",
   "execution_count": null,
   "id": "e5621298",
   "metadata": {},
   "outputs": [],
   "source": []
  }
 ],
 "metadata": {
  "kernelspec": {
   "display_name": "Python 3 (ipykernel)",
   "language": "python",
   "name": "python3"
  },
  "language_info": {
   "codemirror_mode": {
    "name": "ipython",
    "version": 3
   },
   "file_extension": ".py",
   "mimetype": "text/x-python",
   "name": "python",
   "nbconvert_exporter": "python",
   "pygments_lexer": "ipython3",
   "version": "3.11.5"
  }
 },
 "nbformat": 4,
 "nbformat_minor": 5
}
